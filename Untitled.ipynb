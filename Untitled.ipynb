{
 "cells": [
  {
   "cell_type": "code",
   "execution_count": 5,
   "id": "c7b2aa8b-d904-49d4-b33b-3253e3344dfe",
   "metadata": {
    "tags": []
   },
   "outputs": [],
   "source": [
    "from Util import util as ut"
   ]
  },
  {
   "cell_type": "code",
   "execution_count": 6,
   "id": "6b6f6441-5e02-47f4-a010-7bcd1ea4bdb6",
   "metadata": {
    "tags": []
   },
   "outputs": [
    {
     "name": "stdout",
     "output_type": "stream",
     "text": [
      "Luciano\n"
     ]
    }
   ],
   "source": [
    "ut.imprime('Luciano')"
   ]
  }
 ],
 "metadata": {
  "kernelspec": {
   "display_name": "Python 3 (ipykernel)",
   "language": "python",
   "name": "python3"
  },
  "language_info": {
   "codemirror_mode": {
    "name": "ipython",
    "version": 3
   },
   "file_extension": ".py",
   "mimetype": "text/x-python",
   "name": "python",
   "nbconvert_exporter": "python",
   "pygments_lexer": "ipython3",
   "version": "3.8.16"
  }
 },
 "nbformat": 4,
 "nbformat_minor": 5
}
